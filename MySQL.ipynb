{
 "cells": [
  {
   "cell_type": "code",
   "execution_count": null,
   "metadata": {
    "collapsed": false
   },
   "outputs": [],
   "source": [
    "sc = spark.sparkContext\n",
    "oneSysLog = sc.textFile(\"file:/var/log/system.log\")\n",
    "allSysLogs = sc.textFile(\"file:/var/log/system.log*\")\n",
    "allLogs = sc.textFile(\"file:/var/log/*.log*\")"
   ]
  },
  {
   "cell_type": "code",
   "execution_count": null,
   "metadata": {
    "collapsed": false
   },
   "outputs": [],
   "source": [
    "print oneSysLog.count()\n",
    "print allSysLogs.count()\n",
    "print allLogs.count()\n",
    "\n",
    "print oneSysLog.collect()"
   ]
  },
  {
   "cell_type": "code",
   "execution_count": null,
   "metadata": {
    "collapsed": false
   },
   "outputs": [],
   "source": [
    "from pyspark.sql import Row\n",
    "logsRDD = allSysLogs.map(lambda logRow: Row(log=logRow))\n",
    "logsDF = spark.createDataFrame(logsRDD)\n",
    "logsDF.createOrReplaceTempView(\"logs\")\n",
    "\n",
    "logsDF.printSchema()\n",
    "spark.sql(\"select log from logs limit \").show()"
   ]
  },
  {
   "cell_type": "code",
   "execution_count": null,
   "metadata": {
    "collapsed": false
   },
   "outputs": [],
   "source": [
    "spark.sql(\"select log from logs limit 4\").show()"
   ]
  },
  {
   "cell_type": "code",
   "execution_count": null,
   "metadata": {
    "collapsed": false
   },
   "outputs": [],
   "source": [
    "peopleDF = spark.read.json(\"examples/src/main/resources/people.json\")\n",
    "peopleDF.write.parquet(\"people.parquet\")\n",
    "\n",
    "parquetFile = spark.read.parquet(\"people.parquet\")\n",
    "parquetFile.printSchema()\n",
    "# Parquet files can also be used to create a temporary view and then used in SQL statements.\n",
    "parquetFile.createOrReplaceTempView(\"parquetFile\")\n",
    "teenagers = spark.sql(\"SELECT name FROM parquetFile WHERE age >= 13 AND age <= 19\")\n",
    "teenagers.show()\n"
   ]
  },
  {
   "cell_type": "code",
   "execution_count": null,
   "metadata": {
    "collapsed": false
   },
   "outputs": [],
   "source": [
    "import time\n",
    "start_time = time.time()\n",
    "\n",
    "sqlUrl = \"jdbc:mysql://127.0.0.1:32768?user=root&password=root\"\n",
    "df = spark.read.jdbc(url=sqlUrl, table=\"kudo.core_order_items\", \n",
    "                     properties={\"driver\": 'com.mysql.jdbc.Driver'})\n",
    "\n",
    "df1 = spark.read.jdbc(url=sqlUrl, table=\"kudo.core_vendors\", \n",
    "                     properties={\"driver\": 'com.mysql.jdbc.Driver'})\n",
    "df = df.alias(\"a\")\n",
    "df1 = df1.alias(\"b\")\n",
    "df2= df.join(df1, df1.id==df.vendor_id)\n",
    "df2.printSchema()\n",
    "df2.select(\"a.id\").show()\n",
    "print(\"--- %s seconds ---\" % (time.time() - start_time))\n",
    "\n",
    "\n"
   ]
  },
  {
   "cell_type": "code",
   "execution_count": null,
   "metadata": {
    "collapsed": false
   },
   "outputs": [],
   "source": [
    "df = df.alias(\"a\")\n",
    "df1 = df1.alias(\"b\")\n",
    "peopleDF = spark.read.json(\"examples/src/main/resources/people-1.json\")\n",
    "peopleDF = peopleDF.alias(\"c\")\n",
    "start_time = time.time()\n",
    "df2= df.join(df1, df1.id==df.vendor_id)\n",
    "df3= df1.join(peopleDF, peopleDF.id==df1.id)\n",
    "df3.show()\n",
    "print(\"--- %s seconds ---\" % (time.time() - start_time))\n",
    "df2.select(\"a.id\").show()\n",
    "\n",
    "\n"
   ]
  }
 ],
 "metadata": {
  "kernelspec": {
   "display_name": "Python 2",
   "language": "python",
   "name": "python2"
  },
  "language_info": {
   "codemirror_mode": {
    "name": "ipython",
    "version": 2
   },
   "file_extension": ".py",
   "mimetype": "text/x-python",
   "name": "python",
   "nbconvert_exporter": "python",
   "pygments_lexer": "ipython2",
   "version": "2.7.10"
  }
 },
 "nbformat": 4,
 "nbformat_minor": 2
}
